{
 "cells": [
  {
   "cell_type": "code",
   "execution_count": null,
   "id": "f1033e68",
   "metadata": {},
   "outputs": [],
   "source": [
    "import numpy as np\n",
    "import matplotlib.pyplot as plt\n",
    "import pandas as pd"
   ]
  },
  {
   "cell_type": "code",
   "execution_count": null,
   "id": "231c4514",
   "metadata": {},
   "outputs": [],
   "source": [
    "dataset = pd.read_csv('dataset_filepath')\n",
    "dataset.drop(['id'], axis=1, inplace=True)"
   ]
  },
  {
   "cell_type": "code",
   "execution_count": null,
   "id": "b7021ac9",
   "metadata": {},
   "outputs": [],
   "source": [
    "cat_dict = {'rbc':{'normal':0, 'abnormal':1}, 'pc':{'normal':0, 'abnormal':1}, 'pcc':{'notpresent':0, 'present':1}, \\\n",
    "            'ba':{'notpresent':0, 'present':1}, 'htn':{'no':0, 'yes':1}, 'dm':{'no':0, 'yes':1}, 'cad':{'no':0, 'yes':1}, \\\n",
    "            'appet':{'good':0, 'poor':1}, 'pe':{'no':0, 'yes':1}, 'ane':{'no':0, 'yes':1}, \\\n",
    "            'classification':{'notckd':0, 'ckd':1}}"
   ]
  },
  {
   "cell_type": "code",
   "execution_count": null,
   "id": "76df66c0",
   "metadata": {},
   "outputs": [],
   "source": [
    "for col in dataset.columns:\n",
    "    if col in cat_dict.keys():\n",
    "        for i in range(len(dataset)):\n",
    "            if str(dataset[col][i]).strip() in cat_dict[col].keys():\n",
    "                dataset[col][i] = cat_dict[col][str(dataset[col][i]).strip()]"
   ]
  },
  {
   "cell_type": "code",
   "execution_count": null,
   "id": "2a1dfdf6",
   "metadata": {},
   "outputs": [],
   "source": [
    "dataset.replace({'\\t?':np.nan}, inplace=True)"
   ]
  },
  {
   "cell_type": "code",
   "execution_count": null,
   "id": "0bf77d98",
   "metadata": {},
   "outputs": [],
   "source": [
    "parameters = pd.DataFrame(dataset.iloc[:, :-1].values)\n",
    "result = pd.DataFrame(dataset.iloc[:, 24].values)"
   ]
  },
  {
   "cell_type": "code",
   "execution_count": null,
   "id": "538a8834",
   "metadata": {},
   "outputs": [],
   "source": [
    "from sklearn.preprocessing import StandardScaler\n",
    "sc_parameters = StandardScaler()\n",
    "t1 = sc_parameters.fit_transform(parameters.iloc[:, :5])\n",
    "t2 = parameters.iloc[:, 5:9]\n",
    "t3 = sc_parameters.fit_transform(parameters.iloc[:, 9:18])\n",
    "t4 = parameters.iloc[:, 18:24]\n",
    "parameters = np.concatenate([t1, t2, t3, t4], axis=1)"
   ]
  },
  {
   "cell_type": "code",
   "execution_count": null,
   "id": "58283bb0",
   "metadata": {},
   "outputs": [],
   "source": [
    "from sklearn.impute import KNNImputer\n",
    "imputer = KNNImputer(n_neighbors = 5)\n",
    "parameters = imputer.fit_transform(parameters)"
   ]
  },
  {
   "cell_type": "code",
   "execution_count": null,
   "id": "7e2af733",
   "metadata": {},
   "outputs": [],
   "source": [
    "for x in range(0, 400):\n",
    "    for y in range(5, 9):\n",
    "        if parameters[x][y] <= 0.5:\n",
    "            parameters[x][y] = 0\n",
    "        elif parameters[x][y] > 0.5:\n",
    "            parameters[x][y] = 1\n",
    "\n",
    "for x in range(0, 400):\n",
    "    for y in range(18, 24):\n",
    "        if parameters[x][y] <= 0.5:\n",
    "            parameters[x][y] = 0\n",
    "        elif parameters[x][y] > 0.5:\n",
    "            parameters[x][y] = 1"
   ]
  },
  {
   "cell_type": "code",
   "execution_count": null,
   "id": "19085ca1",
   "metadata": {},
   "outputs": [],
   "source": [
    "from sklearn.model_selection import train_test_split\n",
    "X_train, X_test, y_train, y_test = train_test_split(parameters, result, test_size = 0.25)"
   ]
  },
  {
   "cell_type": "code",
   "execution_count": null,
   "id": "25c68de8",
   "metadata": {},
   "outputs": [],
   "source": [
    "from sklearn.svm import SVC\n",
    "classifier = SVC()\n",
    "\n",
    "from sklearn.model_selection import GridSearchCV\n",
    "parameters = [{'C': [0.25, 0.5, 0.75, 1], 'kernel': ['linear']},\n",
    "              {'C': [0.25, 0.5, 0.75, 1], 'kernel': ['rbf'], 'gamma': [0.1, 0.2, 0.3, 0.4, 0.5, 0.6, 0.7, 0.8, 0.9]}]\n",
    "grid_search = GridSearchCV(estimator = classifier,\n",
    "                           param_grid = parameters,\n",
    "                           scoring = 'accuracy',\n",
    "                           cv = 10)\n",
    "grid_search.fit(X_train, y_train)\n",
    "best_accuracy = grid_search.best_score_\n",
    "best_parameters = grid_search.best_params_\n",
    "print(\"Best Accuracy: {:.2f} %\".format(best_accuracy*100))\n",
    "print(\"Best Parameters:\", best_parameters)"
   ]
  },
  {
   "cell_type": "code",
   "execution_count": null,
   "id": "855e626c",
   "metadata": {},
   "outputs": [],
   "source": [
    "classifier = SVC(kernel='linear', C=0.25)\n",
    "classifier.fit(X_train, y_train)"
   ]
  },
  {
   "cell_type": "code",
   "execution_count": null,
   "id": "5d898586",
   "metadata": {},
   "outputs": [],
   "source": [
    "y_pred = classifier.predict(X_test)"
   ]
  },
  {
   "cell_type": "code",
   "execution_count": null,
   "id": "5e7e3aa8",
   "metadata": {},
   "outputs": [],
   "source": [
    "from sklearn.metrics import confusion_matrix, classification_report\n",
    "cm = confusion_matrix(y_test, y_pred)\n",
    "print(classification_report(y_test, y_pred))"
   ]
  }
 ],
 "metadata": {
  "kernelspec": {
   "display_name": "Python 3 (ipykernel)",
   "language": "python",
   "name": "python3"
  },
  "language_info": {
   "codemirror_mode": {
    "name": "ipython",
    "version": 3
   },
   "file_extension": ".py",
   "mimetype": "text/x-python",
   "name": "python",
   "nbconvert_exporter": "python",
   "pygments_lexer": "ipython3",
   "version": "3.9.7"
  }
 },
 "nbformat": 4,
 "nbformat_minor": 5
}
